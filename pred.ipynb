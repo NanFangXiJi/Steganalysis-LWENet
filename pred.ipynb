{
 "cells": [
  {
   "cell_type": "code",
   "id": "initial_id",
   "metadata": {
    "collapsed": true
   },
   "source": [
    "import torch\n",
    "from torchvision import transforms\n",
    "import pandas as pd\n",
    "\n",
    "from LWENet import lwenet\n",
    "from utils import DatasetPred\n",
    "from stat_func import predict"
   ],
   "outputs": [],
   "execution_count": null
  },
  {
   "metadata": {},
   "cell_type": "code",
   "source": [
    "device = torch.device('cuda:0' if torch.cuda.is_available() else 'cpu')\n",
    "device"
   ],
   "id": "caebc08194b1357e",
   "outputs": [],
   "execution_count": null
  },
  {
   "metadata": {},
   "cell_type": "code",
   "source": "model_path = \"models/HILL_BEST.pth\"",
   "id": "629e1c5de32629e9",
   "outputs": [],
   "execution_count": null
  },
  {
   "metadata": {},
   "cell_type": "code",
   "source": [
    "model = lwenet()\n",
    "model.load_state_dict(torch.load(model_path))"
   ],
   "id": "8cbec3c1d751611b",
   "outputs": [],
   "execution_count": null
  },
  {
   "metadata": {},
   "cell_type": "code",
   "source": "pred_batch_size = 50",
   "id": "3990b72b432c8186",
   "outputs": [],
   "execution_count": null
  },
  {
   "metadata": {},
   "cell_type": "code",
   "source": [
    "kwargs = {'num_workers': 0, 'pin_memory': True} if torch.cuda.is_available() else {}\n",
    "pred_path = \"data/HILL_test/cover\"\n",
    "output_path = \"output/HILL_test.csv\"\n",
    "pred_data= DatasetPred(pred_path, transform=transforms.Compose([transforms.Grayscale(), transforms.ToTensor()]))\n",
    "pred_loader = torch.utils.data.DataLoader(pred_data,batch_size=pred_batch_size, shuffle=True, **kwargs)"
   ],
   "id": "75f03b972c8081",
   "outputs": [],
   "execution_count": null
  },
  {
   "metadata": {},
   "cell_type": "code",
   "source": "model.to(device);",
   "id": "be687965b43eaf92",
   "outputs": [],
   "execution_count": null
  },
  {
   "metadata": {},
   "cell_type": "code",
   "source": "preds, filenames = predict(model, device, pred_loader)",
   "id": "ecfd9e2ebf4e4c1f",
   "outputs": [],
   "execution_count": null
  },
  {
   "metadata": {},
   "cell_type": "code",
   "source": [
    "pred_df = pd.DataFrame({\n",
    "    \"filename\": filenames,\n",
    "    \"pred\": preds\n",
    "})\n",
    "pred_df[\"pred\"].replace({0: \"cover\", 1: \"stego\"}, inplace=True)\n",
    "pred_df.to_csv(output_path, index=False)"
   ],
   "id": "9338221a13f712d2",
   "outputs": [],
   "execution_count": null
  },
  {
   "metadata": {},
   "cell_type": "code",
   "source": "",
   "id": "75fb58f7320d1820",
   "outputs": [],
   "execution_count": null
  }
 ],
 "metadata": {
  "kernelspec": {
   "display_name": "Python 3",
   "language": "python",
   "name": "python3"
  },
  "language_info": {
   "codemirror_mode": {
    "name": "ipython",
    "version": 2
   },
   "file_extension": ".py",
   "mimetype": "text/x-python",
   "name": "python",
   "nbconvert_exporter": "python",
   "pygments_lexer": "ipython2",
   "version": "2.7.6"
  }
 },
 "nbformat": 4,
 "nbformat_minor": 5
}
