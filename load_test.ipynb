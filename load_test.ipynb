{
 "cells": [
  {
   "cell_type": "code",
   "id": "initial_id",
   "metadata": {
    "collapsed": true,
    "ExecuteTime": {
     "end_time": "2025-04-19T04:52:30.095536Z",
     "start_time": "2025-04-19T04:52:26.620546Z"
    }
   },
   "source": [
    "import torch\n",
    "from torchvision import datasets, transforms\n",
    "\n",
    "from LWENet import lwenet\n",
    "from stat_func import test_stat as test"
   ],
   "outputs": [],
   "execution_count": 1
  },
  {
   "metadata": {
    "ExecuteTime": {
     "end_time": "2025-04-19T04:52:30.740681Z",
     "start_time": "2025-04-19T04:52:30.096374Z"
    }
   },
   "cell_type": "code",
   "source": [
    "device = torch.device('cuda:0' if torch.cuda.is_available() else 'cpu')\n",
    "device"
   ],
   "id": "ccea45770b441699",
   "outputs": [
    {
     "data": {
      "text/plain": [
       "device(type='cuda', index=0)"
      ]
     },
     "execution_count": 2,
     "metadata": {},
     "output_type": "execute_result"
    }
   ],
   "execution_count": 2
  },
  {
   "metadata": {
    "ExecuteTime": {
     "end_time": "2025-04-19T04:52:30.761405Z",
     "start_time": "2025-04-19T04:52:30.742047Z"
    }
   },
   "cell_type": "code",
   "source": "model_path = \"models/HILL_BEST.pth\"",
   "id": "b3769512733ef882",
   "outputs": [],
   "execution_count": 3
  },
  {
   "metadata": {
    "ExecuteTime": {
     "end_time": "2025-04-19T04:52:30.861429Z",
     "start_time": "2025-04-19T04:52:30.761405Z"
    }
   },
   "cell_type": "code",
   "source": [
    "model = lwenet()\n",
    "model.load_state_dict(torch.load(model_path))"
   ],
   "id": "16a3c421c4dc7f5f",
   "outputs": [
    {
     "data": {
      "text/plain": [
       "<All keys matched successfully>"
      ]
     },
     "execution_count": 4,
     "metadata": {},
     "output_type": "execute_result"
    }
   ],
   "execution_count": 4
  },
  {
   "metadata": {
    "ExecuteTime": {
     "end_time": "2025-04-19T04:52:30.871510Z",
     "start_time": "2025-04-19T04:52:30.861429Z"
    }
   },
   "cell_type": "code",
   "source": "test_batch_size = 50",
   "id": "4585995ee40f842",
   "outputs": [],
   "execution_count": 5
  },
  {
   "metadata": {
    "ExecuteTime": {
     "end_time": "2025-04-19T04:52:30.891414Z",
     "start_time": "2025-04-19T04:52:30.871510Z"
    }
   },
   "cell_type": "code",
   "source": [
    "kwargs = {'num_workers': 0, 'pin_memory': True} if torch.cuda.is_available() else {}\n",
    "test_path = \"data/HILL_test\"\n",
    "test_data= datasets.ImageFolder(test_path, transform=transforms.Compose([transforms.Grayscale(), transforms.ToTensor()]))\n",
    "test_loader = torch.utils.data.DataLoader(test_data,batch_size=test_batch_size, shuffle=True, **kwargs)"
   ],
   "id": "a259eaa04d7d6e2d",
   "outputs": [],
   "execution_count": 6
  },
  {
   "metadata": {
    "ExecuteTime": {
     "end_time": "2025-04-19T04:52:30.901504Z",
     "start_time": "2025-04-19T04:52:30.891414Z"
    }
   },
   "cell_type": "code",
   "source": "model.to(device);",
   "id": "7975a41c0da03bae",
   "outputs": [],
   "execution_count": 7
  },
  {
   "metadata": {
    "ExecuteTime": {
     "end_time": "2025-04-19T04:52:45.079834Z",
     "start_time": "2025-04-19T04:52:30.901504Z"
    }
   },
   "cell_type": "code",
   "source": [
    "accu, loss = test(model, device, test_loader)\n",
    "accu, loss"
   ],
   "id": "b09756c06adefa82",
   "outputs": [
    {
     "name": "stdout",
     "output_type": "stream",
     "text": [
      "Average loss: 0.2686, Accuracy: 865.0/1000 (86.500000%)\n",
      "虚警率(FPR): 58/500 (11.600000%)\n",
      "漏检率(FNR): 77/500 (15.400000%)\n"
     ]
    },
    {
     "data": {
      "text/plain": [
       "(0.865, 0.26863899517059325)"
      ]
     },
     "execution_count": 8,
     "metadata": {},
     "output_type": "execute_result"
    }
   ],
   "execution_count": 8
  },
  {
   "metadata": {},
   "cell_type": "code",
   "source": "",
   "id": "24df3fc5f221165d",
   "outputs": [],
   "execution_count": null
  }
 ],
 "metadata": {
  "kernelspec": {
   "display_name": "Python 3",
   "language": "python",
   "name": "python3"
  },
  "language_info": {
   "codemirror_mode": {
    "name": "ipython",
    "version": 2
   },
   "file_extension": ".py",
   "mimetype": "text/x-python",
   "name": "python",
   "nbconvert_exporter": "python",
   "pygments_lexer": "ipython2",
   "version": "2.7.6"
  }
 },
 "nbformat": 4,
 "nbformat_minor": 5
}
