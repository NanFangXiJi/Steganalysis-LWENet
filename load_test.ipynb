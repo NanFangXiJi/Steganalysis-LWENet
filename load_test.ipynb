{
 "cells": [
  {
   "cell_type": "code",
   "id": "initial_id",
   "metadata": {
    "collapsed": true
   },
   "source": [
    "import torch\n",
    "from torchvision import datasets, transforms\n",
    "\n",
    "from LWENet import lwenet\n",
    "from train_test_valid import test"
   ],
   "outputs": [],
   "execution_count": null
  },
  {
   "metadata": {},
   "cell_type": "code",
   "source": [
    "device = torch.device('cuda:0' if torch.cuda.is_available() else 'cpu')\n",
    "device"
   ],
   "id": "ccea45770b441699",
   "outputs": [],
   "execution_count": null
  },
  {
   "metadata": {},
   "cell_type": "code",
   "source": "model_path = \"models/HILL_BEST.pth\"",
   "id": "b3769512733ef882",
   "outputs": [],
   "execution_count": null
  },
  {
   "metadata": {},
   "cell_type": "code",
   "source": [
    "model = lwenet()\n",
    "model.load_state_dict(torch.load(model_path))"
   ],
   "id": "16a3c421c4dc7f5f",
   "outputs": [],
   "execution_count": null
  },
  {
   "metadata": {},
   "cell_type": "code",
   "source": "batch_size = {'train': 10, 'valid': 50, 'test': 50}",
   "id": "4585995ee40f842",
   "outputs": [],
   "execution_count": null
  },
  {
   "metadata": {},
   "cell_type": "code",
   "source": [
    "kwargs = {'num_workers': 0, 'pin_memory': True} if torch.cuda.is_available() else {}\n",
    "test_path = \"F:/SomeRandomTask/Steganalysis_LWENet/data/HILL_test\"\n",
    "test_data= datasets.ImageFolder(test_path, transform=transforms.Compose([transforms.Grayscale(), transforms.ToTensor()]))\n",
    "test_loader = torch.utils.data.DataLoader(test_data,batch_size=batch_size['test'], shuffle=True, **kwargs)"
   ],
   "id": "a259eaa04d7d6e2d",
   "outputs": [],
   "execution_count": null
  },
  {
   "metadata": {},
   "cell_type": "code",
   "source": "model.to(device);",
   "id": "7975a41c0da03bae",
   "outputs": [],
   "execution_count": null
  },
  {
   "metadata": {},
   "cell_type": "code",
   "source": "test(model, device, test_loader)",
   "id": "b09756c06adefa82",
   "outputs": [],
   "execution_count": null
  },
  {
   "metadata": {},
   "cell_type": "code",
   "source": "",
   "id": "1a2f407158b84f74",
   "outputs": [],
   "execution_count": null
  }
 ],
 "metadata": {
  "kernelspec": {
   "display_name": "Python 3",
   "language": "python",
   "name": "python3"
  },
  "language_info": {
   "codemirror_mode": {
    "name": "ipython",
    "version": 2
   },
   "file_extension": ".py",
   "mimetype": "text/x-python",
   "name": "python",
   "nbconvert_exporter": "python",
   "pygments_lexer": "ipython2",
   "version": "2.7.6"
  }
 },
 "nbformat": 4,
 "nbformat_minor": 5
}
