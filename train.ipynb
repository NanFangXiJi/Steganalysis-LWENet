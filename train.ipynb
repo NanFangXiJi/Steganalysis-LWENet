{
 "cells": [
  {
   "cell_type": "code",
   "id": "initial_id",
   "metadata": {
    "collapsed": true
   },
   "source": [
    "import torch\n",
    "import torch.nn as nn\n",
    "import torch.optim as optim\n",
    "from torchvision import datasets, transforms\n",
    "from torch.utils.data import DataLoader\n",
    "\n",
    "from torch.backends import cudnn\n",
    "import utils\n",
    "import matplotlib.pyplot as plt\n",
    "\n",
    "from LWENet import lwenet\n",
    "from train_test_valid import train, test, valid, save_model"
   ],
   "outputs": [],
   "execution_count": null
  },
  {
   "metadata": {},
   "cell_type": "code",
   "source": [
    "device = torch.device('cuda:0' if torch.cuda.is_available() else 'cpu')\n",
    "device"
   ],
   "id": "8a5144f4b7079ca",
   "outputs": [],
   "execution_count": null
  },
  {
   "metadata": {},
   "cell_type": "code",
   "source": [
    "train_cover_path = \"data/BOSS_train/cover\"\n",
    "train_stego_path = \"data/BOSS_train/stego\"\n",
    "valid_path = \"data/BOSS_valid\"\n",
    "test_path = \"data/BOSS_test\"\n",
    "\n",
    "model_save_path = \"models/\""
   ],
   "id": "ee5fa5aa1f2a0081",
   "outputs": [],
   "execution_count": null
  },
  {
   "metadata": {},
   "cell_type": "markdown",
   "source": "参数",
   "id": "7be2070b19f07343"
  },
  {
   "metadata": {},
   "cell_type": "code",
   "source": [
    "batch_size = {'train': 10, 'valid': 50, 'test': 50}\n",
    "lr = 0.01\n",
    "weight_decay = 0.001\n",
    "momentum = 0.9\n",
    "log_interval = 50  # 多少个batch打印一次\n",
    "save_interval = 10  # 多少个epoch保存一次\n",
    "epochs = 80\n",
    "\n",
    "train_title = \"example\""
   ],
   "id": "bf02e53f77a3ed1e",
   "outputs": [],
   "execution_count": null
  },
  {
   "metadata": {},
   "cell_type": "markdown",
   "source": "数据增强",
   "id": "8edb437453cc034c"
  },
  {
   "metadata": {},
   "cell_type": "code",
   "source": "train_transform = transforms.Compose([utils.AugData(),utils.ToTensor()])",
   "id": "d42f0271fef2ad5",
   "outputs": [],
   "execution_count": null
  },
  {
   "metadata": {},
   "cell_type": "code",
   "source": [
    "kwargs = {'num_workers': 0, 'pin_memory': True} if torch.cuda.is_available() else {}\n",
    "train_data= utils.DatasetPair(train_cover_path, train_stego_path, train_transform)\n",
    "valid_data= datasets.ImageFolder(valid_path, transform=transforms.Compose([transforms.Grayscale(), transforms.ToTensor()]))\n",
    "test_data= datasets.ImageFolder(test_path, transform=transforms.Compose([transforms.Grayscale(), transforms.ToTensor()]))\n",
    "\n",
    "train_loader = DataLoader(train_data,batch_size=batch_size['train'], shuffle=True, **kwargs)\n",
    "valid_loader = DataLoader(valid_data,batch_size=batch_size['valid'], shuffle=False, **kwargs)\n",
    "test_loader = DataLoader(test_data,batch_size=batch_size['test'], shuffle=True, **kwargs)"
   ],
   "id": "f0a0b5999e67b6be",
   "outputs": [],
   "execution_count": null
  },
  {
   "metadata": {},
   "cell_type": "markdown",
   "source": "加载模型",
   "id": "caa1cddb3ac3155"
  },
  {
   "metadata": {},
   "cell_type": "code",
   "source": "model = lwenet()",
   "id": "f5b04b0207f269e2",
   "outputs": [],
   "execution_count": null
  },
  {
   "metadata": {},
   "cell_type": "code",
   "source": "model = model.to(device)",
   "id": "728b542718f8e31b",
   "outputs": [],
   "execution_count": null
  },
  {
   "metadata": {},
   "cell_type": "markdown",
   "source": "性能优化",
   "id": "294afbaadeb5292b"
  },
  {
   "metadata": {},
   "cell_type": "code",
   "source": [
    "cudnn.benchmark = True\n",
    "cudnn.deterministic = False"
   ],
   "id": "320fb49006eb4bfe",
   "outputs": [],
   "execution_count": null
  },
  {
   "metadata": {},
   "cell_type": "markdown",
   "source": "使用Kaiming方法初始化权重",
   "id": "4dd751965056b29a"
  },
  {
   "metadata": {},
   "cell_type": "code",
   "source": [
    "def initWeights(module):\n",
    "    if type(module) == nn.Conv2d:\n",
    "        if module.weight.requires_grad:\n",
    "            nn.init.kaiming_normal_(module.weight.data, mode='fan_in', nonlinearity='relu')\n",
    "            \n",
    "            \n",
    "model.apply(initWeights);"
   ],
   "id": "7bc873d9dfca0376",
   "outputs": [],
   "execution_count": null
  },
  {
   "metadata": {},
   "cell_type": "markdown",
   "source": "筛选出需要训练的多维参数，对其做权重衰减",
   "id": "a7fdb52dace159dc"
  },
  {
   "metadata": {},
   "cell_type": "code",
   "source": [
    "params = model.parameters()\n",
    "params_wd, params_rest = [], []\n",
    "for param_item in params:\n",
    "    if param_item.requires_grad:\n",
    "        (params_wd if param_item.dim() != 1 else params_rest).append(param_item)\n",
    "\n",
    "param_groups= [{'params': params_wd, 'weight_decay': weight_decay},\n",
    "                    {'params': params_rest}]"
   ],
   "id": "823745c784a9c08e",
   "outputs": [],
   "execution_count": null
  },
  {
   "metadata": {},
   "cell_type": "markdown",
   "source": "使用SGD\n",
   "id": "3368482d4b7fc3ce"
  },
  {
   "metadata": {},
   "cell_type": "code",
   "source": "optimizer = optim.SGD(param_groups, lr=lr, momentum=momentum)",
   "id": "e286f66fb8384089",
   "outputs": [],
   "execution_count": null
  },
  {
   "metadata": {},
   "cell_type": "markdown",
   "source": "在抵达milestones时将学习率衰减为原来的$\\gamma$倍",
   "id": "91b9fe90eb843776"
  },
  {
   "metadata": {},
   "cell_type": "code",
   "source": [
    "DECAY_EPOCH = [80,140,180]\n",
    "scheduler = optim.lr_scheduler.MultiStepLR(optimizer, milestones=DECAY_EPOCH, gamma=0.1)"
   ],
   "id": "d145d72ffaf4b601",
   "outputs": [],
   "execution_count": null
  },
  {
   "metadata": {},
   "cell_type": "markdown",
   "source": "训练",
   "id": "7a73d0110c8d3eed"
  },
  {
   "metadata": {},
   "cell_type": "code",
   "source": [
    "valid_acc_list = []\n",
    "valid_loss_list = []\n",
    "best_valid_loss = torch.inf\n",
    "\n",
    "for epoch in range(epochs):\n",
    "    train(model, epoch, train_loader, batch_size['train'], device, optimizer, scheduler, log_interval)\n",
    "    valid_acc, valid_loss = valid(model, device, valid_loader)\n",
    "    valid_acc_list.append(valid_acc)\n",
    "    valid_loss_list.append(valid_loss)\n",
    "    if (epoch + 1) % save_interval == 0:\n",
    "        model_path = model_save_path + train_title + str(epoch) + '.pth'\n",
    "        save_model(model, model_path)\n",
    "        print(\"model saved at {}\".format(model_path))\n",
    "    if valid_loss < best_valid_loss:\n",
    "        best_valid_loss = valid_loss\n",
    "        model_path = model_save_path + train_title + '_BEST' + '.pth'\n",
    "        save_model(model, model_path)\n",
    "        print(\"best model saved at {}\".format(model_path))"
   ],
   "id": "610bb96fd1538749",
   "outputs": [],
   "execution_count": null
  },
  {
   "metadata": {},
   "cell_type": "code",
   "source": "test(model, device, test_loader)",
   "id": "94707f5248eea69e",
   "outputs": [],
   "execution_count": null
  },
  {
   "metadata": {},
   "cell_type": "code",
   "source": [
    "HILL_test_path = \"data/HILL_test\"\n",
    "\n",
    "HILL_test_data = datasets.ImageFolder(HILL_test_path, transform=transforms.Compose([transforms.Grayscale(), transforms.ToTensor()]))\n",
    "HILL_test_loader = torch.utils.data.DataLoader(HILL_test_data,batch_size=batch_size['test'], shuffle=True, **kwargs)"
   ],
   "id": "e10c8a5420860520",
   "outputs": [],
   "execution_count": null
  },
  {
   "metadata": {},
   "cell_type": "code",
   "source": "test(model, device, HILL_test_loader)",
   "id": "c3da3156a44e4ac5",
   "outputs": [],
   "execution_count": null
  },
  {
   "metadata": {},
   "cell_type": "code",
   "source": [
    "plt.plot([i for i in range(len(valid_acc_list))], valid_acc_list)\n",
    "for epc in DECAY_EPOCH:\n",
    "    plt.axvline(x=epc, color='red', linestyle='--', linewidth=1)\n",
    "plt.savefig(f'plots/{train_title}_valid_acc.png')\n",
    "plt.show()\n",
    "plt.close()"
   ],
   "id": "1888ced378fc2fb6",
   "outputs": [],
   "execution_count": null
  },
  {
   "metadata": {},
   "cell_type": "code",
   "source": [
    "plt.plot([i for i in range(len(valid_loss_list))], valid_loss_list)\n",
    "for epc in DECAY_EPOCH:\n",
    "    plt.axvline(x=epc, color='red', linestyle='--', linewidth=1)\n",
    "plt.savefig(f'plots/{train_title}_valid_loss.png')\n",
    "plt.show()\n",
    "plt.close()"
   ],
   "id": "a5769ac6b9cae9e1",
   "outputs": [],
   "execution_count": null
  }
 ],
 "metadata": {
  "kernelspec": {
   "display_name": "Python 3",
   "language": "python",
   "name": "python3"
  },
  "language_info": {
   "codemirror_mode": {
    "name": "ipython",
    "version": 2
   },
   "file_extension": ".py",
   "mimetype": "text/x-python",
   "name": "python",
   "nbconvert_exporter": "python",
   "pygments_lexer": "ipython2",
   "version": "2.7.6"
  }
 },
 "nbformat": 4,
 "nbformat_minor": 5
}
